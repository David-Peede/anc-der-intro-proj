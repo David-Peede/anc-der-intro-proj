{
 "cells": [
  {
   "cell_type": "markdown",
   "id": "1c5486f3-3b93-4c51-8dcf-6e981d444cb5",
   "metadata": {},
   "source": [
    "# Canid Analyses\n",
    "## Dependicies\n",
    "First we will load the necessary packages."
   ]
  },
  {
   "cell_type": "code",
   "execution_count": 1,
   "id": "f3272724-a87a-4864-bcf5-44e058002248",
   "metadata": {},
   "outputs": [],
   "source": [
    "# Import packages.\n",
    "import numpy as np\n",
    "import pandas as pd\n",
    "from scipy.stats import norm\n",
    "import scipy.stats as stats"
   ]
  },
  {
   "cell_type": "markdown",
   "id": "0110ab84-306c-4c1c-ae5d-cd751ac568ce",
   "metadata": {},
   "source": [
    "Next we define a function to calculate all the introgression metrics for detecting introgression."
   ]
  },
  {
   "cell_type": "code",
   "execution_count": 2,
   "id": "478fee5c-0bb6-4222-98c7-c0009121ff08",
   "metadata": {},
   "outputs": [],
   "source": [
    "# Define a function to calculate D, Danc, and D+.\n",
    "def canid_detection(\n",
    "    abba,\n",
    "    baba,\n",
    "    baaa,\n",
    "    abaa,\n",
    "):\n",
    "    \"\"\"\n",
    "    ###########################################################################\n",
    "    INPUT: Genome-wide ABBA, BABA, BAAA, and ABAA counts.\n",
    "    ---------------------------------------------------------------------------\n",
    "    OUTPUT: Patterson's D, Danc, and D+ values.\n",
    "    ###########################################################################\n",
    "    \"\"\"\n",
    "    # Calculate Patterson's D.\n",
    "    d = ((abba - baba) / (abba + baba))\n",
    "    # Calculate Danc.\n",
    "    danc = ((baaa - abaa) / (baaa + abaa))\n",
    "    # Calculate D+.\n",
    "    dplus = (((abba - baba) + (baaa - abaa)) / ((abba + baba) + (baaa + abaa)))\n",
    "    return d, danc, dplus"
   ]
  },
  {
   "cell_type": "markdown",
   "id": "726a0337-3e07-4a2d-9da1-ad3a41dc16f4",
   "metadata": {},
   "source": [
    "Next we define a function to calculate all the introgression metrics for quantifying introgression."
   ]
  },
  {
   "cell_type": "code",
   "execution_count": 3,
   "id": "4e99c6e9-a976-42e9-8fe5-c246fad5ee4e",
   "metadata": {},
   "outputs": [],
   "source": [
    "# Define a function to calculate fhom, fanc, and f+.\n",
    "def canid_quantification(\n",
    "    abba,\n",
    "    baba,\n",
    "    aaba,\n",
    "    baaa,\n",
    "    abaa,\n",
    "    bbaa,\n",
    "):\n",
    "    \"\"\"\n",
    "    ###########################################################################\n",
    "    INPUT: Genome-wide ABBA, BABA, AABA, BAAA, ABAA, and BBAA counts.\n",
    "    ---------------------------------------------------------------------------\n",
    "    OUTPUT: fhom, fanc, and f+ values.\n",
    "    ###########################################################################\n",
    "    \"\"\"\n",
    "    # Calculate fhom.\n",
    "    fhom = ((abba - baba) / (abba + aaba))\n",
    "    # Calculate fanc.\n",
    "    fanc = ((baaa - abaa) / (baaa + bbaa))\n",
    "    # Calculate f+.\n",
    "    fplus = (((abba - baba) + (baaa - abaa)) / ((abba + aaba) + (baaa + bbaa)))\n",
    "    return fhom, fanc, fplus"
   ]
  },
  {
   "cell_type": "markdown",
   "id": "f8347d23-6a36-423e-a6d8-b449d1cb3256",
   "metadata": {},
   "source": [
    "## (((Dingo, Basenji), Israeli Wolf), Golden Jackal) Results\n",
    "First we load the observed and bootstrapped site pattern results."
   ]
  },
  {
   "cell_type": "code",
   "execution_count": 4,
   "id": "f4d3b6de-1b71-47fe-b813-816a34402aa0",
   "metadata": {},
   "outputs": [],
   "source": [
    "# Load the observed site patterns as a numpy array.\n",
    "obs_site_patterns = np.loadtxt(\n",
    "    './canid_site_pattern_counts.csv',\n",
    "    delimiter=',', dtype=int,\n",
    ")\n",
    "# Load the bootstrapped site patterns as a numpy array.\n",
    "bs_site_patterns = np.loadtxt(\n",
    "    './canid_bootstrapped_site_patterns.csv',\n",
    "    delimiter=',', dtype=int,\n",
    ")"
   ]
  },
  {
   "cell_type": "markdown",
   "id": "8d3cf286-d756-453f-a1b1-56aca5dfb874",
   "metadata": {},
   "source": [
    "Next we calculate all introgression metrics and assess signficance."
   ]
  },
  {
   "cell_type": "code",
   "execution_count": 5,
   "id": "3dd9494b-3646-4235-9bbc-8886e5dab5ad",
   "metadata": {},
   "outputs": [],
   "source": [
    "# Calculate observed detection metrics.\n",
    "obs_d, obs_danc, obs_dplus = canid_detection(\n",
    "    abba=obs_site_patterns[0],\n",
    "    baba=obs_site_patterns[1],\n",
    "    baaa=obs_site_patterns[3],\n",
    "    abaa=obs_site_patterns[4],\n",
    ")\n",
    "# Calculate observed quantification metrics.\n",
    "obs_fhom, obs_fanc, obs_fplus = canid_quantification(\n",
    "    abba=obs_site_patterns[0],\n",
    "    baba=obs_site_patterns[1],\n",
    "    aaba=obs_site_patterns[5],\n",
    "    baaa=obs_site_patterns[3],\n",
    "    abaa=obs_site_patterns[4],\n",
    "    bbaa=obs_site_patterns[2],\n",
    ")\n",
    "# Calculate bootstrapped detection metrics.\n",
    "bs_d, bs_danc, bs_dplus = canid_detection(\n",
    "    abba=bs_site_patterns[:, 0],\n",
    "    baba=bs_site_patterns[:, 1],\n",
    "    baaa=bs_site_patterns[:, 3],\n",
    "    abaa=bs_site_patterns[:, 4],\n",
    ")\n",
    "# Calculate bootstrapped quantification metrics.\n",
    "bs_fhom, bs_fanc, bs_fplus = canid_quantification(\n",
    "    abba=bs_site_patterns[:, 0],\n",
    "    baba=bs_site_patterns[:, 1],\n",
    "    aaba=bs_site_patterns[:, 5],\n",
    "    baaa=bs_site_patterns[:, 3],\n",
    "    abaa=bs_site_patterns[:, 4],\n",
    "    bbaa=bs_site_patterns[:, 2],\n",
    ")\n",
    "# Calculate standard deviations for each introgression metric from the bootstrapped distributions.\n",
    "bs_d_std = np.std(bs_d)\n",
    "bs_danc_std = np.std(bs_danc)\n",
    "bs_dplus_std = np.std(bs_dplus)\n",
    "bs_fhom_std = np.std(bs_fhom)\n",
    "bs_fanc_std = np.std(bs_fanc)\n",
    "bs_fplus_std = np.std(bs_fplus)\n",
    "# Use the survival function to calculate p-values for detection metrics.\n",
    "d_pval = norm.sf(x=abs(obs_d), loc=0, scale=abs(bs_d_std))\n",
    "danc_pval = norm.sf(x=abs(obs_danc), loc=0, scale=abs(bs_danc_std))\n",
    "dplus_pval = norm.sf(x=abs(obs_dplus), loc=0, scale=abs(bs_dplus_std))"
   ]
  },
  {
   "cell_type": "markdown",
   "id": "8b611a02-7d47-4d5f-ae54-63fadb879e53",
   "metadata": {},
   "source": [
    "Next we generate a pandas data frame to visualize the results."
   ]
  },
  {
   "cell_type": "code",
   "execution_count": 6,
   "id": "80e27e2d-a575-4fca-bcbb-18e44b954ec5",
   "metadata": {},
   "outputs": [
    {
     "data": {
      "text/html": [
       "<style type=\"text/css\">\n",
       "</style>\n",
       "<table id=\"T_47534_\">\n",
       "  <thead>\n",
       "    <tr>\n",
       "      <th class=\"blank level0\" >&nbsp;</th>\n",
       "      <th class=\"col_heading level0 col0\" >$ABBA$</th>\n",
       "      <th class=\"col_heading level0 col1\" >$BABA$</th>\n",
       "      <th class=\"col_heading level0 col2\" >$BAAA$</th>\n",
       "      <th class=\"col_heading level0 col3\" >$ABAA$</th>\n",
       "      <th class=\"col_heading level0 col4\" >$ABBA-BABA$</th>\n",
       "      <th class=\"col_heading level0 col5\" >$BAAA-ABAA$</th>\n",
       "      <th class=\"col_heading level0 col6\" >$D$</th>\n",
       "      <th class=\"col_heading level0 col7\" >$D \\;(p-value)$</th>\n",
       "      <th class=\"col_heading level0 col8\" >$D_{anc}$</th>\n",
       "      <th class=\"col_heading level0 col9\" >$D_{anc} \\;(p-value)$</th>\n",
       "      <th class=\"col_heading level0 col10\" >$D+$</th>\n",
       "      <th class=\"col_heading level0 col11\" >$D+ \\;(p-value)$</th>\n",
       "      <th class=\"col_heading level0 col12\" >$f_{hom}$</th>\n",
       "      <th class=\"col_heading level0 col13\" >$f_{hom} \\;(\\sigma)$</th>\n",
       "      <th class=\"col_heading level0 col14\" >$f_{anc}$</th>\n",
       "      <th class=\"col_heading level0 col15\" >$f_{anc} \\;(\\sigma)$</th>\n",
       "      <th class=\"col_heading level0 col16\" >$f+$</th>\n",
       "      <th class=\"col_heading level0 col17\" >$f+ \\;(\\sigma)$</th>\n",
       "    </tr>\n",
       "  </thead>\n",
       "  <tbody>\n",
       "    <tr>\n",
       "      <th id=\"T_47534_level0_row0\" class=\"row_heading level0 row0\" >0</th>\n",
       "      <td id=\"T_47534_row0_col0\" class=\"data row0 col0\" >186412</td>\n",
       "      <td id=\"T_47534_row0_col1\" class=\"data row0 col1\" >154645</td>\n",
       "      <td id=\"T_47534_row0_col2\" class=\"data row0 col2\" >413597</td>\n",
       "      <td id=\"T_47534_row0_col3\" class=\"data row0 col3\" >370899</td>\n",
       "      <td id=\"T_47534_row0_col4\" class=\"data row0 col4\" >31767</td>\n",
       "      <td id=\"T_47534_row0_col5\" class=\"data row0 col5\" >42698</td>\n",
       "      <td id=\"T_47534_row0_col6\" class=\"data row0 col6\" >0.093</td>\n",
       "      <td id=\"T_47534_row0_col7\" class=\"data row0 col7\" >1.205E-43</td>\n",
       "      <td id=\"T_47534_row0_col8\" class=\"data row0 col8\" >0.054</td>\n",
       "      <td id=\"T_47534_row0_col9\" class=\"data row0 col9\" >9.033E-40</td>\n",
       "      <td id=\"T_47534_row0_col10\" class=\"data row0 col10\" >0.066</td>\n",
       "      <td id=\"T_47534_row0_col11\" class=\"data row0 col11\" >5.049E-49</td>\n",
       "      <td id=\"T_47534_row0_col12\" class=\"data row0 col12\" >0.051</td>\n",
       "      <td id=\"T_47534_row0_col13\" class=\"data row0 col13\" >0.004</td>\n",
       "      <td id=\"T_47534_row0_col14\" class=\"data row0 col14\" >0.065</td>\n",
       "      <td id=\"T_47534_row0_col15\" class=\"data row0 col15\" >0.005</td>\n",
       "      <td id=\"T_47534_row0_col16\" class=\"data row0 col16\" >0.058</td>\n",
       "      <td id=\"T_47534_row0_col17\" class=\"data row0 col17\" >0.004</td>\n",
       "    </tr>\n",
       "  </tbody>\n",
       "</table>\n"
      ],
      "text/plain": [
       "<pandas.io.formats.style.Styler at 0x7f95be3ef610>"
      ]
     },
     "execution_count": 6,
     "metadata": {},
     "output_type": "execute_result"
    }
   ],
   "source": [
    "# Intialize observed site patterns of interest.\n",
    "obs_abba = obs_site_patterns[0]\n",
    "obs_baba = obs_site_patterns[1]\n",
    "obs_baaa = obs_site_patterns[3]\n",
    "obs_abaa = obs_site_patterns[4]\n",
    "# Calculate site pattern differences.\n",
    "obs_abba_baba = obs_abba - obs_baba\n",
    "obs_baaa_abaa = obs_baaa - obs_abaa\n",
    "# Construct the results data frame.\n",
    "results_df = pd.DataFrame(\n",
    "    data={\n",
    "        r'$ABBA$': [obs_abba],\n",
    "        r'$BABA$': [obs_baba],\n",
    "        r'$BAAA$': [obs_baaa],\n",
    "        r'$ABAA$': [obs_abaa],\n",
    "        r'$ABBA-BABA$': [obs_abba_baba],\n",
    "        r'$BAAA-ABAA$': [obs_baaa_abaa],\n",
    "        r'$D$': [obs_d],\n",
    "        r'$D \\;(p-value)$': [d_pval],\n",
    "        r'$D_{anc}$': [obs_danc],\n",
    "        r'$D_{anc} \\;(p-value)$': [danc_pval],\n",
    "        r'$D+$': [obs_dplus],\n",
    "        r'$D+ \\;(p-value)$': [dplus_pval],\n",
    "        r'$f_{hom}$': [obs_fhom],\n",
    "        r'$f_{hom} \\;(\\sigma)$': [bs_fhom_std],\n",
    "        r'$f_{anc}$': [obs_fanc],\n",
    "        r'$f_{anc} \\;(\\sigma)$': [bs_fanc_std],\n",
    "        r'$f+$': [obs_fplus],\n",
    "        r'$f+ \\;(\\sigma)$': [bs_fplus_std],\n",
    "    },\n",
    ")\n",
    "# Format the precision.\n",
    "results_df = results_df.style.format({\n",
    "    r'$ABBA$': '{:d}',\n",
    "    r'$BABA$': '{:d}',\n",
    "    r'$BAAA$': '{:d}',\n",
    "    r'$ABAA$': '{:d}',\n",
    "    r'$ABBA-BABA$': '{:d}',\n",
    "    r'$BAAA-ABAA$': '{:d}',\n",
    "    r'$D$': '{:.3F}',\n",
    "    r'$D \\;(p-value)$': '{:.3E}',\n",
    "    r'$D_{anc}$': '{:.3F}',\n",
    "    r'$D_{anc} \\;(p-value)$': '{:.3E}',\n",
    "    r'$D+$': '{:.3F}',\n",
    "    r'$D+ \\;(p-value)$': '{:.3E}',\n",
    "    r'$f_{hom}$': '{:.3F}',\n",
    "    r'$f_{hom} \\;(\\sigma)$': '{:.3F}',\n",
    "    r'$f_{anc}$': '{:.3F}',\n",
    "    r'$f_{anc} \\;(\\sigma)$': '{:.3F}',\n",
    "    r'$f+$': '{:.3F}',\n",
    "    r'$f+ \\;(\\sigma)$': '{:.3F}',\n",
    "})\n",
    "results_df"
   ]
  },
  {
   "cell_type": "markdown",
   "id": "10d0a8f8-3e9c-45f9-abdd-cdca970afcd4",
   "metadata": {},
   "source": [
    "Lastly we export the pandas data frame to a .tex file."
   ]
  },
  {
   "cell_type": "code",
   "execution_count": 7,
   "id": "250b39c0-6671-49d1-b0c0-2f700ffe451d",
   "metadata": {},
   "outputs": [],
   "source": [
    "# Write this pandas dataframe to a .tex file.\n",
    "with open('../../manuscript/tables/canid_metrics_summary.tex', 'w') as tex_table:\n",
    "    tex_table.write(results_df.to_latex(column_format='cccccccccccccccccc', hrules=True))"
   ]
  }
 ],
 "metadata": {
  "kernelspec": {
   "display_name": "Python 3 (ipykernel)",
   "language": "python",
   "name": "python3"
  },
  "language_info": {
   "codemirror_mode": {
    "name": "ipython",
    "version": 3
   },
   "file_extension": ".py",
   "mimetype": "text/x-python",
   "name": "python",
   "nbconvert_exporter": "python",
   "pygments_lexer": "ipython3",
   "version": "3.8.12"
  }
 },
 "nbformat": 4,
 "nbformat_minor": 5
}
